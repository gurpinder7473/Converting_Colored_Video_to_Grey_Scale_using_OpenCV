{
  "nbformat": 4,
  "nbformat_minor": 0,
  "metadata": {
    "colab": {
      "provenance": [],
      "authorship_tag": "ABX9TyMBtKIgLrsqZgmefy5H+1od",
      "include_colab_link": true
    },
    "kernelspec": {
      "name": "python3",
      "display_name": "Python 3"
    },
    "language_info": {
      "name": "python"
    }
  },
  "cells": [
    {
      "cell_type": "markdown",
      "metadata": {
        "id": "view-in-github",
        "colab_type": "text"
      },
      "source": [
        "<a href=\"https://colab.research.google.com/github/gurpinder7473/Converting_Colored_Video_to_Grey_Scale_using_OpenCV/blob/main/Converting_Colored_Video_to_Grey_Scale_using_OpenCV.ipynb\" target=\"_parent\"><img src=\"https://colab.research.google.com/assets/colab-badge.svg\" alt=\"Open In Colab\"/></a>"
      ]
    },
    {
      "cell_type": "code",
      "execution_count": 17,
      "metadata": {
        "colab": {
          "base_uri": "https://localhost:8080/"
        },
        "id": "bXVCF0_cLfql",
        "outputId": "b4813a7d-42a9-49a5-89a9-2e4c5f5d7f0e"
      },
      "outputs": [
        {
          "output_type": "stream",
          "name": "stdout",
          "text": [
            "Grayscale Video Converter\n",
            "Converting video to grayscale...\n",
            "Input: /content/drive/MyDrive/video/input_video.mp4\n",
            "Output: /content/drive/MyDrive/video/output_grayscale.avi\n",
            "Conversion complete! Grayscale video saved successfully.\n"
          ]
        }
      ],
      "source": [
        "# Required Libraries\n",
        "import cv2                   # OpenCV for video processing\n",
        "from pathlib import Path     # Clean path handling\n",
        "\n",
        "# Video conversion function\n",
        "def convert_video_to_grayscale(input_video_path, output_video_path):\n",
        "    \"\"\"\n",
        "    Converts a color video to grayscale and saves it as a new video file.\n",
        "    \"\"\"\n",
        "    input_path = Path(input_video_path)\n",
        "    if not input_path.is_file():\n",
        "        print(\"Error: Input video file not found.\")\n",
        "        return\n",
        "\n",
        "    # Open the video file\n",
        "    cap = cv2.VideoCapture(str(input_path))\n",
        "    if not cap.isOpened():\n",
        "        print(\"Failed to open the video.\")\n",
        "        return\n",
        "\n",
        "    # Get video details\n",
        "    width  = int(cap.get(cv2.CAP_PROP_FRAME_WIDTH))\n",
        "    height = int(cap.get(cv2.CAP_PROP_FRAME_HEIGHT))\n",
        "    fps    = cap.get(cv2.CAP_PROP_FPS)\n",
        "    codec  = cv2.VideoWriter_fourcc(*'XVID')  # You can use 'MP4V' or other codecs\n",
        "\n",
        "    # Prepare output video writer\n",
        "    out = cv2.VideoWriter(str(output_video_path), codec, fps, (width, height), isColor=False)\n",
        "\n",
        "    print(f\"Converting video to grayscale...\\nInput: {input_video_path}\\nOutput: {output_video_path}\")\n",
        "\n",
        "    while True:\n",
        "        ret, frame = cap.read()\n",
        "        if not ret:\n",
        "            break\n",
        "\n",
        "        gray_frame = cv2.cvtColor(frame, cv2.COLOR_BGR2GRAY)\n",
        "        out.write(gray_frame)\n",
        "\n",
        "    # Cleanup\n",
        "    cap.release()\n",
        "    out.release()\n",
        "    print(\"Conversion complete! Grayscale video saved successfully.\")\n",
        "\n",
        "# Main Execution\n",
        "if __name__ == \"__main__\":\n",
        "    print(\"Grayscale Video Converter\")\n",
        "\n",
        "    # Input and Output Paths (customize as needed)\n",
        "    # Replace these placeholder paths with the actual paths to your files in Google Drive\n",
        "    input_video = r\"/content/drive/MyDrive/video/input_video.mp4\"\n",
        "    output_video = r\"/content/drive/MyDrive/video/output_grayscale.avi\"\n",
        "\n",
        "    convert_video_to_grayscale(input_video, output_video)"
      ]
    }
  ]
}